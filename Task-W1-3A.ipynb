{
 "cells": [
  {
   "cell_type": "code",
   "execution_count": 17,
   "metadata": {},
   "outputs": [
    {
     "data": {
      "text/plain": [
       "array([[10, 31, 27, 22, 25, 22],\n",
       "       [39, 35, 48,  9, 26, 33],\n",
       "       [34,  2, 10, 38, 22, 24],\n",
       "       [11, 14, 22, 27,  1, 29],\n",
       "       [11, 34,  6,  7, 35, 32],\n",
       "       [ 1, 17, 46, 39, 24, 47],\n",
       "       [32, 14, 47,  4, 20, 45],\n",
       "       [37, 10, 33, 47, 33, 30]])"
      ]
     },
     "execution_count": 17,
     "metadata": {},
     "output_type": "execute_result"
    }
   ],
   "source": [
    "import numpy as np\n",
    "loto = np.random.randint(1,50,size=(8,6))\n",
    "loto\n"
   ]
  },
  {
   "cell_type": "code",
   "execution_count": 18,
   "metadata": {},
   "outputs": [
    {
     "data": {
      "text/plain": [
       "array([[28, 31,  3, 21, 25, 15],\n",
       "       [13,  8, 48,  9, 26, 43],\n",
       "       [40,  2,  5, 38, 19, 18],\n",
       "       [41, 12, 22, 27, 44, 29],\n",
       "       [11, 34,  6,  7, 35, 23],\n",
       "       [ 1, 17, 46, 39, 24, 16],\n",
       "       [32, 14, 36,  4, 20, 45],\n",
       "       [37, 10, 49, 47, 33, 30]])"
      ]
     },
     "execution_count": 18,
     "metadata": {},
     "output_type": "execute_result"
    }
   ],
   "source": [
    "temp=0\n",
    "for r in range(0,8):        # array içinde dolaşmak için satır ve sutün sayılarına göre for döngüleri\n",
    "    for c in range (0,6):\n",
    "        temp = loto[r,c]    # değerimizi geçici olarak bir başka değişkene kaydediyoruz. çünkü o değeri kaybetmek istemiyoruz.\n",
    "        loto[r,c] = 0       # kenara ayırdıgımız değişkenin yerine 0 koyuyoruz.\n",
    "        if temp in loto:    # değişkenimizin yerine 0 koydugumuz için eğer geçici değişkenimizin içinde tuttugu değer hala loto'nun içindeyse bu değerden en az 2 tane vardır demek.\n",
    "            temp = np.random.randint(1,50)  # eğer var ise geçici değişkenimizin yerine yeni bir rastgele sayı veriyoruz.\n",
    "        while temp in loto:                 # eğer bu sayı da lotonun içindeyse tekrar bir rastgele sayı ataması yapılacak ve bu döngü geçici sayı loto' array'i içinde bulundugu süre dönmeye devam edecek.\n",
    "            temp = np.random.randint(1,50)\n",
    "        loto[r,c] = temp                    # while döngüsü bitti ise geçici değişkenimiz array içinde yok demektir. bu sayıyı eski değişkenimizin yerine koyabiliriz.\n",
    "loto\n",
    "    \n"
   ]
  },
  {
   "cell_type": "code",
   "execution_count": null,
   "metadata": {},
   "outputs": [],
   "source": []
  },
  {
   "cell_type": "code",
   "execution_count": null,
   "metadata": {},
   "outputs": [],
   "source": []
  }
 ],
 "metadata": {
  "kernelspec": {
   "display_name": "Python 3.8.0 64-bit",
   "language": "python",
   "name": "python3"
  },
  "language_info": {
   "codemirror_mode": {
    "name": "ipython",
    "version": 3
   },
   "file_extension": ".py",
   "mimetype": "text/x-python",
   "name": "python",
   "nbconvert_exporter": "python",
   "pygments_lexer": "ipython3",
   "version": "3.8.0"
  },
  "orig_nbformat": 4,
  "vscode": {
   "interpreter": {
    "hash": "d7c3d6c47a36d4199ae0094d939b9b7790f0b1277aca375a2f03297bba2c7078"
   }
  }
 },
 "nbformat": 4,
 "nbformat_minor": 2
}
