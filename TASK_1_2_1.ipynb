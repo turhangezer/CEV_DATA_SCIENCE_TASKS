{
 "cells": [
  {
   "cell_type": "code",
   "execution_count": 1,
   "metadata": {},
   "outputs": [],
   "source": [
    "def is_prime(num):\n",
    "  if (num<2):\n",
    "    return False\n",
    "  elif (num==2):\n",
    "    return True\n",
    "  elif (num%2 == 0):\n",
    "    return False\n",
    "  i=3\n",
    "  while (i<=num/2):\n",
    "    if (num%i==0):\n",
    "      return False\n",
    "    i=i+1\n",
    "  return True"
   ]
  },
  {
   "cell_type": "code",
   "execution_count": 4,
   "metadata": {},
   "outputs": [
    {
     "name": "stdout",
     "output_type": "stream",
     "text": [
      "False\n",
      "True\n",
      "True\n",
      "False\n"
     ]
    }
   ],
   "source": [
    "print(is_prime(21))\n",
    "print(is_prime(23))\n",
    "print(is_prime(29))\n",
    "print(is_prime(27))"
   ]
  },
  {
   "cell_type": "code",
   "execution_count": null,
   "metadata": {},
   "outputs": [],
   "source": []
  }
 ],
 "metadata": {
  "kernelspec": {
   "display_name": "Python 3.8.0 64-bit",
   "language": "python",
   "name": "python3"
  },
  "language_info": {
   "codemirror_mode": {
    "name": "ipython",
    "version": 3
   },
   "file_extension": ".py",
   "mimetype": "text/x-python",
   "name": "python",
   "nbconvert_exporter": "python",
   "pygments_lexer": "ipython3",
   "version": "3.8.0"
  },
  "orig_nbformat": 4,
  "vscode": {
   "interpreter": {
    "hash": "d7c3d6c47a36d4199ae0094d939b9b7790f0b1277aca375a2f03297bba2c7078"
   }
  }
 },
 "nbformat": 4,
 "nbformat_minor": 2
}
