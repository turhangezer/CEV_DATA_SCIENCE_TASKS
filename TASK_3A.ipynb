{
 "cells": [
  {
   "cell_type": "code",
   "execution_count": 11,
   "metadata": {},
   "outputs": [
    {
     "data": {
      "text/plain": [
       "Bursa         3147818\n",
       "İzmir         4321000\n",
       "Balıkesir     1229000\n",
       "Antalya       2548308\n",
       "Kocaeli       2033441\n",
       "İstanbul     15460000\n",
       "Eskişehir      887475\n",
       "dtype: int64"
      ]
     },
     "execution_count": 11,
     "metadata": {},
     "output_type": "execute_result"
    }
   ],
   "source": [
    "import pandas as pd\n",
    "\n",
    "populationlist = {'Bursa': 3147818,'İzmir': 4321000,'Balıkesir': 1229000,'Antalya': 2548308,'Kocaeli': 2033441,'İstanbul': 15460000,'Eskişehir': 887475}\n",
    "population = pd.Series(populationlist)\n",
    "population"
   ]
  },
  {
   "cell_type": "code",
   "execution_count": 12,
   "metadata": {},
   "outputs": [
    {
     "data": {
      "text/plain": [
       "Bursa        10082\n",
       "İzmir        11891\n",
       "Balıkesir     1454\n",
       "Antalya       1417\n",
       "Kocaeli       3626\n",
       "İstanbul      5343\n",
       "Eskişehir     2678\n",
       "dtype: int64"
      ]
     },
     "execution_count": 12,
     "metadata": {},
     "output_type": "execute_result"
    }
   ],
   "source": [
    "arealist = {'Bursa': 10082,'İzmir': 11891,'Balıkesir': 1454,'Antalya': 1417,'Kocaeli': 3626,'İstanbul': 5343,'Eskişehir': 2678}\n",
    "area = pd.Series(arealist)\n",
    "area"
   ]
  },
  {
   "cell_type": "code",
   "execution_count": 13,
   "metadata": {},
   "outputs": [
    {
     "data": {
      "text/html": [
       "<div>\n",
       "<style scoped>\n",
       "    .dataframe tbody tr th:only-of-type {\n",
       "        vertical-align: middle;\n",
       "    }\n",
       "\n",
       "    .dataframe tbody tr th {\n",
       "        vertical-align: top;\n",
       "    }\n",
       "\n",
       "    .dataframe thead th {\n",
       "        text-align: right;\n",
       "    }\n",
       "</style>\n",
       "<table border=\"1\" class=\"dataframe\">\n",
       "  <thead>\n",
       "    <tr style=\"text-align: right;\">\n",
       "      <th></th>\n",
       "      <th>Population</th>\n",
       "      <th>Area (km2)</th>\n",
       "    </tr>\n",
       "  </thead>\n",
       "  <tbody>\n",
       "    <tr>\n",
       "      <th>Bursa</th>\n",
       "      <td>3147818</td>\n",
       "      <td>10082</td>\n",
       "    </tr>\n",
       "    <tr>\n",
       "      <th>İzmir</th>\n",
       "      <td>4321000</td>\n",
       "      <td>11891</td>\n",
       "    </tr>\n",
       "    <tr>\n",
       "      <th>Balıkesir</th>\n",
       "      <td>1229000</td>\n",
       "      <td>1454</td>\n",
       "    </tr>\n",
       "    <tr>\n",
       "      <th>Antalya</th>\n",
       "      <td>2548308</td>\n",
       "      <td>1417</td>\n",
       "    </tr>\n",
       "    <tr>\n",
       "      <th>Kocaeli</th>\n",
       "      <td>2033441</td>\n",
       "      <td>3626</td>\n",
       "    </tr>\n",
       "    <tr>\n",
       "      <th>İstanbul</th>\n",
       "      <td>15460000</td>\n",
       "      <td>5343</td>\n",
       "    </tr>\n",
       "    <tr>\n",
       "      <th>Eskişehir</th>\n",
       "      <td>887475</td>\n",
       "      <td>2678</td>\n",
       "    </tr>\n",
       "  </tbody>\n",
       "</table>\n",
       "</div>"
      ],
      "text/plain": [
       "           Population  Area (km2)\n",
       "Bursa         3147818       10082\n",
       "İzmir         4321000       11891\n",
       "Balıkesir     1229000        1454\n",
       "Antalya       2548308        1417\n",
       "Kocaeli       2033441        3626\n",
       "İstanbul     15460000        5343\n",
       "Eskişehir      887475        2678"
      ]
     },
     "execution_count": 13,
     "metadata": {},
     "output_type": "execute_result"
    }
   ],
   "source": [
    "df_data = pd.DataFrame({\"Population\": population,\"Area (km2)\": area})\n",
    "df_data"
   ]
  }
 ],
 "metadata": {
  "kernelspec": {
   "display_name": "Python 3.8.0 64-bit",
   "language": "python",
   "name": "python3"
  },
  "language_info": {
   "codemirror_mode": {
    "name": "ipython",
    "version": 3
   },
   "file_extension": ".py",
   "mimetype": "text/x-python",
   "name": "python",
   "nbconvert_exporter": "python",
   "pygments_lexer": "ipython3",
   "version": "3.8.0"
  },
  "orig_nbformat": 4,
  "vscode": {
   "interpreter": {
    "hash": "d7c3d6c47a36d4199ae0094d939b9b7790f0b1277aca375a2f03297bba2c7078"
   }
  }
 },
 "nbformat": 4,
 "nbformat_minor": 2
}
