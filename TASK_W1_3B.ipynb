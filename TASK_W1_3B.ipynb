{
 "cells": [
  {
   "cell_type": "code",
   "execution_count": 20,
   "metadata": {},
   "outputs": [
    {
     "name": "stdout",
     "output_type": "stream",
     "text": [
      "En uzun boylu başkanın;    Adı: Abraham Lincoln  Boyu:  193 Sırası:  16\n",
      "En kısa boylu başkanın;    Adı: James Madison  Boyu:  163 Sırası:  4\n"
     ]
    }
   ],
   "source": [
    "import pandas as pd\n",
    "data=pd.read_csv('president_heights.csv')\n",
    "heights = pd.array(data['height(cm)'])\n",
    "print(\"En uzun boylu başkanın;    Adı:\",data[\"name\"][heights.argmax()],' Boyu: ', heights.max(), 'Sırası: ', data[\"order\"][heights.argmax()])\n",
    "print(\"En kısa boylu başkanın;    Adı:\",data[\"name\"][heights.argmin()],' Boyu: ', heights.min(), 'Sırası: ', data[\"order\"][heights.argmin()])\n"
   ]
  }
 ],
 "metadata": {
  "kernelspec": {
   "display_name": "Python 3.8.0 64-bit",
   "language": "python",
   "name": "python3"
  },
  "language_info": {
   "codemirror_mode": {
    "name": "ipython",
    "version": 3
   },
   "file_extension": ".py",
   "mimetype": "text/x-python",
   "name": "python",
   "nbconvert_exporter": "python",
   "pygments_lexer": "ipython3",
   "version": "3.8.0"
  },
  "orig_nbformat": 4,
  "vscode": {
   "interpreter": {
    "hash": "d7c3d6c47a36d4199ae0094d939b9b7790f0b1277aca375a2f03297bba2c7078"
   }
  }
 },
 "nbformat": 4,
 "nbformat_minor": 2
}
